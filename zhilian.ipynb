{
 "cells": [
  {
   "cell_type": "code",
   "execution_count": 1,
   "metadata": {},
   "outputs": [],
   "source": [
    "import os\n",
    "import re\n",
    "import selenium\n",
    "import requests\n"
   ]
  },
  {
   "cell_type": "code",
   "execution_count": 7,
   "metadata": {},
   "outputs": [],
   "source": [
    "phone_number = os.environ.get('PHONE_NUMNET')"
   ]
  },
  {
   "cell_type": "code",
   "execution_count": 4,
   "metadata": {},
   "outputs": [],
   "source": []
  },
  {
   "cell_type": "code",
   "execution_count": 33,
   "metadata": {},
   "outputs": [],
   "source": [
    "class Config():\n",
    "    '''\n",
    "    this is the config file for this project\n",
    "    '''\n",
    "    def phone_number():\n",
    "        \n",
    "        return  os.environ.get('PHONE_NUMNET')"
   ]
  },
  {
   "cell_type": "code",
   "execution_count": 39,
   "metadata": {},
   "outputs": [],
   "source": [
    "class Timer:\n",
    "    '''\n",
    "    this class will control the time for the scapring process,like when to start scrape and when to stop\n",
    "    '''\n",
    "    def scrape_timer():\n",
    "        pass"
   ]
  },
  {
   "cell_type": "code",
   "execution_count": 34,
   "metadata": {},
   "outputs": [],
   "source": [
    "class Driver():\n",
    "    '''\n",
    "    this class will generate driver with user-agent and proxy settings\n",
    "    '''\n",
    "    def assumble_driver():\n",
    "        pass\n",
    "    "
   ]
  },
  {
   "cell_type": "code",
   "execution_count": 29,
   "metadata": {},
   "outputs": [],
   "source": [
    "def get_verification_code(phone_number,url):\n",
    "    '''\n",
    "    with phone number to login the websit\n",
    "    \n",
    "    args:\n",
    "        environment variable of phone number,string\n",
    "        \n",
    "    returns:\n",
    "        verification code to send back to website and seleinum driver\n",
    "    '''\n",
    "    pass"
   ]
  },
  {
   "cell_type": "code",
   "execution_count": 17,
   "metadata": {},
   "outputs": [],
   "source": [
    "def input_verfication_code(verifi_code):\n",
    "    '''\n",
    "        input verfication code to log in website\n",
    "        \n",
    "    args:\n",
    "        verification code received by phone number\n",
    "    returns:\n",
    "        \n",
    "        slenium driver with loggin, object\n",
    "    '''\n",
    "    pass"
   ]
  },
  {
   "cell_type": "code",
   "execution_count": 18,
   "metadata": {},
   "outputs": [],
   "source": [
    "def get_keyword_list(keyword_file_path):\n",
    "    '''\n",
    "        get keywords of such occupation,such as['软件工程师'，‘石油工程师’]\n",
    "        \n",
    "    args:\n",
    "        file of saving the keyword list, string\n",
    "    returns:\n",
    "        keywords of occupations, list\n",
    "    '''\n",
    "    pass"
   ]
  },
  {
   "cell_type": "code",
   "execution_count": 19,
   "metadata": {},
   "outputs": [],
   "source": [
    "def searching_postions(sel_driver,keyword):\n",
    "    '''\n",
    "    for each keyword,perform searching options\n",
    "    \n",
    "    args:\n",
    "        occupation keyword,such as '软件工程师' and selenium driver object\n",
    "    returns:\n",
    "        selenium driver object\n",
    "    '''\n",
    "    pass"
   ]
  },
  {
   "cell_type": "code",
   "execution_count": 20,
   "metadata": {},
   "outputs": [],
   "source": [
    "def visiting_each_pos(sel_driver):\n",
    "    '''\n",
    "        reach item from above searching actions\n",
    "    args:\n",
    "        selenium object\n",
    "    return:\n",
    "        selenimu object\n",
    "    '''\n",
    "    pass"
   ]
  },
  {
   "cell_type": "code",
   "execution_count": 21,
   "metadata": {},
   "outputs": [],
   "source": [
    "def perform_scrape(item_driver):\n",
    "    '''\n",
    "    scrape the each item page\n",
    "    args:\n",
    "        sel_driver\n",
    "    returns:\n",
    "        item,dictionary,such as \n",
    "        {\n",
    "        'position':‘软件工程师’，\n",
    "        ‘salary’：‘4000-60000’，\n",
    "        ‘position':'山东'，\n",
    "        'vacancy':10, # 人数\n",
    "        'description':['1','2','3'] #职位描述\n",
    "        ‘requirement’：['男人'，‘女人’，‘本科’，‘硕士’，‘工作经验5年’，‘陪吃饭，喝酒’]， #任职资格\n",
    "        \n",
    "        }\n",
    "    '''\n",
    "    pass"
   ]
  },
  {
   "cell_type": "code",
   "execution_count": 28,
   "metadata": {},
   "outputs": [
    {
     "ename": "TypeError",
     "evalue": "cannot unpack non-iterable NoneType object",
     "output_type": "error",
     "traceback": [
      "\u001b[0;31m---------------------------------------------------------------------------\u001b[0m",
      "\u001b[0;31mTypeError\u001b[0m                                 Traceback (most recent call last)",
      "\u001b[0;32m<ipython-input-28-54e85534dfa1>\u001b[0m in \u001b[0;36m<module>\u001b[0;34m\u001b[0m\n\u001b[1;32m      4\u001b[0m     \u001b[0mconfig\u001b[0m \u001b[0;34m=\u001b[0m \u001b[0mConfig\u001b[0m\u001b[0;34m(\u001b[0m\u001b[0;34m)\u001b[0m\u001b[0;34m\u001b[0m\u001b[0;34m\u001b[0m\u001b[0m\n\u001b[1;32m      5\u001b[0m     \u001b[0mphone_number\u001b[0m \u001b[0;34m=\u001b[0m \u001b[0mconfig\u001b[0m\u001b[0;34m.\u001b[0m\u001b[0mphone_number\u001b[0m\u001b[0;34m\u001b[0m\u001b[0;34m\u001b[0m\u001b[0m\n\u001b[0;32m----> 6\u001b[0;31m     \u001b[0mverification_code\u001b[0m\u001b[0;34m,\u001b[0m\u001b[0mdriver\u001b[0m \u001b[0;34m=\u001b[0m \u001b[0mget_verification_code\u001b[0m\u001b[0;34m(\u001b[0m\u001b[0mphone_number\u001b[0m\u001b[0;34m,\u001b[0m\u001b[0murl\u001b[0m\u001b[0;34m)\u001b[0m\u001b[0;34m\u001b[0m\u001b[0;34m\u001b[0m\u001b[0m\n\u001b[0m\u001b[1;32m      7\u001b[0m     \u001b[0mdriver\u001b[0m \u001b[0;34m=\u001b[0m \u001b[0minput_verfication_code\u001b[0m\u001b[0;34m(\u001b[0m\u001b[0mverifi_code\u001b[0m\u001b[0;34m,\u001b[0m\u001b[0mdriver\u001b[0m\u001b[0;34m)\u001b[0m\u001b[0;34m\u001b[0m\u001b[0;34m\u001b[0m\u001b[0m\n\u001b[1;32m      8\u001b[0m     \u001b[0mkeywords\u001b[0m \u001b[0;34m=\u001b[0m \u001b[0mget_keyword_list\u001b[0m\u001b[0;34m(\u001b[0m\u001b[0mkeyword_file_path\u001b[0m\u001b[0;34m)\u001b[0m\u001b[0;34m\u001b[0m\u001b[0;34m\u001b[0m\u001b[0m\n",
      "\u001b[0;31mTypeError\u001b[0m: cannot unpack non-iterable NoneType object"
     ]
    }
   ],
   "source": [
    "if __name__ == \"__main__\":\n",
    "    url = 'https://landing.zhaopin.com'\n",
    "    keyword_file_path = 'static_dir/keyword'\n",
    "    config = Config()\n",
    "    phone_number = config.phone_number\n",
    "    verification_code,driver = get_verification_code(phone_number,url)\n",
    "    driver = input_verfication_code(verifi_code,driver)\n",
    "    keywords = get_keyword_list(keyword_file_path)\n",
    "    for keyword in keywords:\n",
    "        sel_driver = searching_postions(driver,keyword)\n",
    "        item_drivers = visiting_each_pos(sel_driver)\n",
    "        for item in item_drivers:\n",
    "            item_result = perform_scrape(item_driver)\n",
    "        \n",
    "    "
   ]
  },
  {
   "cell_type": "code",
   "execution_count": null,
   "metadata": {},
   "outputs": [],
   "source": []
  }
 ],
 "metadata": {
  "kernelspec": {
   "display_name": "Python 3",
   "language": "python",
   "name": "python3"
  },
  "language_info": {
   "codemirror_mode": {
    "name": "ipython",
    "version": 3
   },
   "file_extension": ".py",
   "mimetype": "text/x-python",
   "name": "python",
   "nbconvert_exporter": "python",
   "pygments_lexer": "ipython3",
   "version": "3.8.2"
  }
 },
 "nbformat": 4,
 "nbformat_minor": 4
}
