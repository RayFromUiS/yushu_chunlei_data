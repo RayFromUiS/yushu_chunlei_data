{
 "cells": [
  {
   "cell_type": "code",
   "execution_count": 1,
   "metadata": {},
   "outputs": [],
   "source": [
    "import os\n",
    "import datetime\n",
    "from http_request_randomizer.requests.proxy.requestProxy import RequestProxy\n",
    "from sqlalchemy import create_engine\n",
    "from sqlalchemy.ext.declarative import declarative_base\n",
    "from sqlalchemy import Column, Integer, String,DateTime\n",
    "from sqlalchemy.orm import sessionmaker\n",
    "\n"
   ]
  },
  {
   "cell_type": "code",
   "execution_count": 12,
   "metadata": {},
   "outputs": [],
   "source": [
    "class Proxy(Base):\n",
    "    __tablename__ = 'proxy'\n",
    "    id = Column(Integer,primary_key=True,)\n",
    "    country = Column(String(100))\n",
    "    address = Column(String(50),nullable=False)\n",
    "    status = Column(String(50))\n",
    "    checked_time = Column(DateTime, default=datetime.datetime.utcnow)\n",
    "\n",
    "    def __repr__(self):\n",
    "        return \"<Proxy(country='%s', address='%s', status='%s',checked_time='%s')>\" % (\n",
    "                                self.country, self.address, self.status,self.checked_time)\n",
    "    "
   ]
  },
  {
   "cell_type": "code",
   "execution_count": 5,
   "metadata": {},
   "outputs": [],
   "source": [
    "def gene_proxy():\n",
    "    '''\n",
    "        generate proxies with module http_request_randomizer \n",
    "        \n",
    "    returns:\n",
    "        zip object of proxy list of tuple,containing element of address and country\n",
    "    '''\n",
    "    req_proxy = RequestProxy()\n",
    "    proxies_list = req_proxy.get_proxy_list()\n",
    "    proxies = zip(list(map(lambda x:x.get_address(),proxies_list)),\n",
    "              list(map(lambda x:x.country,proxies_list)))\n",
    "    \n",
    "    return proxies\n",
    "    "
   ]
  },
  {
   "cell_type": "code",
   "execution_count": null,
   "metadata": {},
   "outputs": [],
   "source": []
  },
  {
   "cell_type": "code",
   "execution_count": 6,
   "metadata": {},
   "outputs": [],
   "source": [
    "def save_proxies(proxies,Base,engine):\n",
    "    '''\n",
    "        write proxies to google cloud sql database,with connection name\n",
    "        \n",
    "    '''\n",
    "    Base.metadata.create_all(engine)  ## create table with engine connection\n",
    "    Session = sessionmaker(bind=engine)\n",
    "    session = Session()\n",
    "    for proxy in proxies:\n",
    "        proxy_row = Proxy(country=proxy[0],address=proxy[1],status=True)\n",
    "        session.add(proxy_row)\n",
    "#         print(proxy)\n",
    "        session.commit()\n",
    "#     return session"
   ]
  },
  {
   "cell_type": "code",
   "execution_count": null,
   "metadata": {},
   "outputs": [
    {
     "name": "stderr",
     "output_type": "stream",
     "text": [
      "2020-06-29 22:27:28,090 root   DEBUG    === Initialized Proxy Parsers ===\n",
      "2020-06-29 22:27:28,092 root   DEBUG    \t FreeProxy parser of 'http://free-proxy-list.net' with required bandwidth: '150' KBs\n",
      "2020-06-29 22:27:28,093 root   DEBUG    \t PremProxy parser of 'https://premproxy.com/list/' with required bandwidth: '150' KBs\n",
      "2020-06-29 22:27:28,094 root   DEBUG    =================================\n"
     ]
    },
    {
     "name": "stdout",
     "output_type": "stream",
     "text": [
      "chunlei\n"
     ]
    },
    {
     "name": "stderr",
     "output_type": "stream",
     "text": [
      "2020-06-29 22:27:34,534 http_request_randomizer.requests.parsers.FreeProxyParser ERROR    Provider FreeProxy failed with Unknown error: HTTPSConnectionPool(host='free-proxy-list.net', port=443): Read timed out.\n",
      "2020-06-29 22:27:34,540 root   DEBUG    Added 0 proxies from FreeProxy\n",
      "2020-06-29 22:27:39,018 http_request_randomizer.requests.parsers.PremProxyParser DEBUG    Pages: {'', '03.htm', '06.htm', '05.htm', '04.htm', '07.htm', '02.htm'}\n",
      "2020-06-29 22:27:43,942 http_request_randomizer.requests.parsers.js.UnPacker INFO     JS UnPacker init path: https://premproxy.com/js/11ee9.js\n",
      "2020-06-29 22:27:51,619 http_request_randomizer.requests.parsers.js.UnPacker DEBUG    portmap: {'r8548': '8080', 're5a8': '55443', 'rabd7': '3128', 'r2ad4': '23500', 'r92a3': '34244', 'rbd24': '34930', 'rf16e': '8081', 'r3759': '8118', 'rbf5c': '8000', 'rfad0': '80', 'r7e4d': '60020', 'r5bd8': '65205', 'rc53b': '41288', 'rc9ac': '52982', 'rfd55': '21231', 'rd048': '61003', 'rd838': '37725', 'r765a': '34110', 'rb5c8': '36984', 'rc1c8': '56891', 'r296b': '39150', 'r659b': '49073', 'r4fbe': '53281', 'r6bf5': '8060', 'rc58b': '9000', 'r98a8': '999', 're8db': '47324', 'r8a05': '36681', 'r1f1e': '39371', 'r56c4': '63141', 'rbf6b': '53959', 'rf064': '60579', 'r8c7a': '31532', 'r1a08': '5836', 'r9856': '443', 'r3e42': '8123', 'r98cd': '61279', 'r7641': '6666', 'r3d40': '31428', 'r4666': '38646', 'r003c': '35224', 'racd8': '5220', 'rd460': '38073', 'r1667': '44004', 'r4d7f': '61444', 'r9e7e': '8686', 'rdcc7': '1000', 'rcd57': '55725', 'r182c': '39589', 'r7f2f': '8888', 'r888d': '14143', 'r2e6c': '33741', 'r481d': '1234', 'r1c84': '30677', 're24d': '56644', 'rfb1e': '43871', 'r3dc1': '56167', 'r942d': '9991', 'r69f3': '33729', 'rcd41': '9001', 'r7bfb': '50153', 'r66d1': '83', 'r53f3': '47894', 're307': '65035', 'r19fa': '84', 'r6558': '3129', 'radc0': '35332', 'ra70d': '38783', 'r4ba1': '60571', 'r0703': '35311', 'r9c3e': '31793', 'r050d': '50330', 'r7ac5': '30987', 'rb353': '41258', 'r0661': '37979', 'rb19b': '47862', 'rac94': '1080', 'r81c7': '50890', 'rc4a4': '39695', 'rb479': '57396', 'r5b8f': '37470', 'rf7a8': '47408', 'rb5de': '38472', 'r707f': '33761', 'r9616': '55184', 'r782c': '3430', 'r777a': '42108', 'r941e': '41632'}\n",
      "2020-06-29 22:27:56,736 http_request_randomizer.requests.parsers.PremProxyParser ERROR    Provider PremProxy failed with Unknown error: HTTPSConnectionPool(host='premproxy.com', port=443): Read timed out. (read timeout=5)\n",
      "2020-06-29 22:27:56,737 root   DEBUG    Added 0 proxies from PremProxy\n",
      "2020-06-29 22:27:56,739 root   DEBUG    Total proxies = 1050\n",
      "2020-06-29 22:27:56,741 root   DEBUG    Filtered proxies = 1050\n"
     ]
    }
   ],
   "source": [
    "if __name__ =='__main__':\n",
    "    Base = declarative_base()\n",
    "    sql_user = os.environ.get('GCLOUD_SQL_USER')\n",
    "    print(sql_user)\n",
    "    sql_pass = os.environ.get('GCLOUD_SQL_PASS')\n",
    "    engine = create_engine(f'mysql+pymysql://{sql_user}:{sql_pass}@/ingredients?unix_socket=/Users/root1/develop/cloudsql/wired-name-281510:asia-east2:yushu-chunlei-job')\n",
    "    proxies = gene_proxy()  ## generate proxies \n",
    "    save_proxies(proxies,Base,engine) ## save proxies to proxy table\n"
   ]
  },
  {
   "cell_type": "code",
   "execution_count": null,
   "metadata": {},
   "outputs": [],
   "source": []
  }
 ],
 "metadata": {
  "kernelspec": {
   "display_name": "Python 3",
   "language": "python",
   "name": "python3"
  },
  "language_info": {
   "codemirror_mode": {
    "name": "ipython",
    "version": 3
   },
   "file_extension": ".py",
   "mimetype": "text/x-python",
   "name": "python",
   "nbconvert_exporter": "python",
   "pygments_lexer": "ipython3",
   "version": "3.6.10"
  }
 },
 "nbformat": 4,
 "nbformat_minor": 4
}
